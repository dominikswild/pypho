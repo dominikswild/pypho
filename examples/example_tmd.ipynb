{
 "cells": [
  {
   "cell_type": "code",
   "execution_count": 1,
   "metadata": {},
   "outputs": [],
   "source": [
    "%load_ext autoreload\n",
    "%autoreload 2"
   ]
  },
  {
   "cell_type": "code",
   "execution_count": 2,
   "metadata": {},
   "outputs": [],
   "source": [
    "import numpy as np\n",
    "from context import pypho\n",
    "import matplotlib.pyplot as plt"
   ]
  },
  {
   "cell_type": "code",
   "execution_count": 3,
   "metadata": {},
   "outputs": [
    {
     "data": {
      "image/png": "[encoded data removed]",
      "text/plain": [
       "<Figure size 432x288 with 1 Axes>"
      ]
     },
     "metadata": {
      "needs_background": "light"
     },
     "output_type": "display_data"
    }
   ],
   "source": [
    "hc = 1.240e6\n",
    "\n",
    "gamma_r = 3\n",
    "gamma_nr = 0.3\n",
    "wavelength_range = np.linspace(738, 765, 300)\n",
    "\n",
    "wavelength0 = 747\n",
    "order_num = 1\n",
    "\n",
    "sim = pypho.simulation_1d.new()\n",
    "\n",
    "sim.stack.define_material('vacuum', 1)\n",
    "sim.stack.define_material('hBN', 4.7)\n",
    "sim.stack.define_material('tmd', 1, two_dimensional=True)\n",
    "sim.stack.define_material('gold', -19.9 + 1.23*1j)\n",
    "sim.stack.define_material('graphene', 2.59 + 7.2*1j)\n",
    "\n",
    "sim.stack.add_layers(['vacuum', 'hBN', 'tmd', 'hBN', 'graphene', 'vacuum', 'gold'],\n",
    "                     [None, 23.5, None, 17, 3, 380, None])\n",
    "\n",
    "r = np.zeros_like(wavelength_range)\n",
    "\n",
    "for i, wavelength in enumerate(wavelength_range):\n",
    "    frequency = 2*np.pi/wavelength\n",
    "    detuning = hc*(1/wavelength - 1/wavelength0)\n",
    "    chi_2d = -gamma_r/frequency/(detuning + 1j*gamma_nr/2)\n",
    "    sim.stack.define_material('tmd', chi_2d)\n",
    "    sim.set_frequency(frequency)\n",
    "    \n",
    "    sim.run()\n",
    "    \n",
    "    r[i] = np.abs(sim.get_reflection(polarization_in=[1,0], polarization_out=[1,0]))**2\n",
    "\n",
    "\n",
    "plt.figure()\n",
    "plt.plot(hc/wavelength_range, r);\n",
    "plt.ylim(0, 1);\n",
    "plt.show()"
   ]
  },
  {
   "cell_type": "code",
   "execution_count": 4,
   "metadata": {},
   "outputs": [
    {
     "name": "stdout",
     "output_type": "stream",
     "text": [
      "CPU times: user 11.7 s, sys: 44 ms, total: 11.7 s\n",
      "Wall time: 5.88 s\n"
     ]
    }
   ],
   "source": [
    "%%time\n",
    "# in meV\n",
    "gamma_r = 3\n",
    "gamma_nr = 0.3\n",
    "detuning_range = np.linspace(-10, 20, 300)\n",
    "\n",
    "# in nm\n",
    "wavelength = 750\n",
    "lattice_constant = 50\n",
    "\n",
    "# number of Fourier orders\n",
    "order_num = 50\n",
    "\n",
    "frequency = 2*np.pi/wavelength\n",
    "\n",
    "sim = pypho.simulation_1d.new(frequency=frequency, order_num=order_num)\n",
    "\n",
    "sim.stack.set_lattice_constant(lattice_constant)\n",
    "\n",
    "sim.stack.define_material('vacuum', 1)\n",
    "sim.stack.define_material('hBN', 4.7)\n",
    "sim.stack.define_material('tmd', 1, two_dimensional=True)\n",
    "sim.stack.define_material('silver', -26.1 + 0.60*1j)\n",
    "\n",
    "sim.stack.define_pattern('grating', ['silver', 'vacuum'], [12.5, 37.5])\n",
    "\n",
    "sim.stack.add_layers(['vacuum', 'hBN', 'tmd', 'hBN', 'grating', 'silver'], [None, 10, None, 10, 12.5, None])\n",
    "\n",
    "rs = np.zeros_like(detuning_range)\n",
    "rp = np.zeros_like(detuning_range)\n",
    "\n",
    "for i, detuning in enumerate(detuning_range):\n",
    "    chi_2d = -gamma_r/frequency/(detuning + 1j*gamma_nr/2)\n",
    "    sim.stack.define_material('tmd', [chi_2d, chi_2d, 0])\n",
    "    \n",
    "    sim.run()\n",
    "    \n",
    "    rs[i] = np.abs(sim.get_reflection(polarization_in=[1,0], polarization_out=[1,0]))**2\n",
    "    rp[i] = np.abs(sim.get_reflection(polarization_in=[0,1], polarization_out=[0,1]))**2\n",
    "\n",
    "r_theory = gamma_r**2/(4*detuning_range**2 + (gamma_nr + gamma_r)**2)"
   ]
  },
  {
   "cell_type": "code",
   "execution_count": 5,
   "metadata": {},
   "outputs": [
    {
     "data": {
      "image/png": "[encoded data removed]",
      "text/plain": [
       "<Figure size 864x288 with 2 Axes>"
      ]
     },
     "metadata": {
      "needs_background": "light"
     },
     "output_type": "display_data"
    }
   ],
   "source": [
    "plt.figure(1, figsize=(12, 4))\n",
    "\n",
    "plt.subplot(121)\n",
    "plt.plot(detuning_range, rs);\n",
    "plt.ylim(0, 1.05);\n",
    "\n",
    "plt.subplot(122)\n",
    "plt.plot(detuning_range, rp);\n",
    "plt.ylim(0, 1.05);\n",
    "\n",
    "plt.show()"
   ]
  },
  {
   "cell_type": "code",
   "execution_count": 6,
   "metadata": {},
   "outputs": [
    {
     "name": "stdout",
     "output_type": "stream",
     "text": [
      "Layer 0:\n",
      "\tTickness: None (unused)\n",
      "\tWidths: [50.0]\n",
      "\tPermittivities: [(1, 1, 1)]\n",
      "\n",
      "Layer 1:\n",
      "\tTickness: 10\n",
      "\tWidths: [50.0]\n",
      "\tPermittivities: [(4.7, 4.7, 4.7)]\n",
      "\n",
      "Layer 1:\n",
      "\tTickness: None (unused)\n",
      "\tWidths: [50.0]\n",
      "\tPermittivities: [(-17.9+0.134j, -17.9+0.134j, 0)]\n",
      "\n",
      "Layer 1:\n",
      "\tTickness: 10\n",
      "\tWidths: [50.0]\n",
      "\tPermittivities: [(4.7, 4.7, 4.7)]\n",
      "\n",
      "Layer 1:\n",
      "\tTickness: 12.5\n",
      "\tWidths: [12.5, 37.5]\n",
      "\tPermittivities: [(-26.1+0.6j, -26.1+0.6j, -26.1+0.6j), (1, 1, 1)]\n",
      "\n",
      "Layer 2:\n",
      "\tTickness: None (unused)\n",
      "\tWidths: [50.0]\n",
      "\tPermittivities: [(-26.1+0.6j, -26.1+0.6j, -26.1+0.6j)]\n",
      "\n"
     ]
    }
   ],
   "source": [
    "sim.stack.print()"
   ]
  }
 ],
 "metadata": {
  "kernelspec": {
   "display_name": "Python 3",
   "language": "python",
   "name": "python3"
  },
  "language_info": {
   "codemirror_mode": {
    "name": "ipython",
    "version": 3
   },
   "file_extension": ".py",
   "mimetype": "text/x-python",
   "name": "python",
   "nbconvert_exporter": "python",
   "pygments_lexer": "ipython3",
   "version": "3.7.2"
  }
 },
 "nbformat": 4,
 "nbformat_minor": 2
}
